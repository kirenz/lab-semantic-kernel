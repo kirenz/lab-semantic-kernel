{
    "cells": [
        {
            "cell_type": "markdown",
            "metadata": {},
            "source": [
                "# Use a Database\n",
                "\n",
                "# Setup\n",
                "\n",
                "## Python"
            ]
        },
        {
            "cell_type": "code",
            "metadata": {},
            "source": [
                "import shutil\n",
                "from IPython.display import display, Markdown\n",
                "import semantic_kernel as sk\n",
                "from semantic_kernel.connectors.ai.open_ai import OpenAIChatCompletion, OpenAITextEmbedding\n",
                "from semantic_kernel.connectors.memory.chroma import ChromaMemoryStore"
            ],
            "execution_count": null,
            "outputs": []
        },
        {
            "cell_type": "markdown",
            "metadata": {},
            "source": [
                "## Kernel and completion service\n"
            ]
        },
        {
            "cell_type": "code",
            "metadata": {},
            "source": [
                "kernel = sk.Kernel()\n",
                "\n",
                "api_key, org_id = sk.openai_settings_from_dot_env()\n",
                "\n",
                "# Completion service\n",
                "kernel.add_text_completion_service(\n",
                "    \"openai-completion\", OpenAIChatCompletion(\"gpt-3.5-turbo\", api_key, org_id))"
            ],
            "execution_count": null,
            "outputs": []
        },
        {
            "cell_type": "markdown",
            "metadata": {},
            "source": [
                "## Embeddings and database"
            ]
        },
        {
            "cell_type": "code",
            "metadata": {},
            "source": [
                "# Embedding service\n",
                "kernel.add_text_embedding_generation_service(\n",
                "    \"openai-embedding\", OpenAITextEmbedding(\"text-embedding-ada-002\", api_key, org_id))"
            ],
            "execution_count": null,
            "outputs": []
        },
        {
            "cell_type": "markdown",
            "metadata": {},
            "source": [
                "[Chroma](https://docs.trychroma.com/) database:"
            ]
        },
        {
            "cell_type": "code",
            "metadata": {},
            "source": [
                "kernel.register_memory_store(\n",
                "    memory_store=ChromaMemoryStore(persist_directory='../data/mymemories'))\n",
                "\n",
                "print(\"\")"
            ],
            "execution_count": null,
            "outputs": []
        },
        {
            "cell_type": "markdown",
            "metadata": {},
            "source": [
                "## Reset database (if necessary)"
            ]
        },
        {
            "cell_type": "code",
            "metadata": {},
            "source": [
                "# ONLY DELETE THE DIRECTORY IF YOU WANT TO CLEAR THE MEMORY\n",
                "# OTHERWISE, SET delete_dir = True\n",
                "\n",
                "delete_dir = False\n",
                "\n",
                "if (delete_dir):\n",
                "    dir_path = \"../data/mymemories\"\n",
                "    shutil.rmtree(dir_path)\n",
                "    kernel.register_memory_store(\n",
                "        memory_store=ChromaMemoryStore(persist_directory=dir_path))\n",
                "    print(\"⚠️ Memory cleared and reset\")"
            ],
            "execution_count": null,
            "outputs": []
        },
        {
            "cell_type": "markdown",
            "metadata": {},
            "source": [
                "# Import Data into Database\n",
                "\n",
                "## Input data {.smaller}"
            ]
        },
        {
            "cell_type": "code",
            "metadata": {},
            "source": [
                "strength_questions = [\"What unique recipes or ingredients does the pizza shop use?\", \"What are the skills and experience of the staff?\", \"Does the pizza shop have a strong reputation in the local area?\",\n",
                "                      \"Are there any unique features of the shop or its location that attract customers?\", \"Does the pizza shop have a strong reputation in the local area?\", \"Are there any unique features of the shop or its location that attract customers?\"]\n",
                "weakness_questions = [\"What are the operational challenges of the pizza shop? (e.g., slow service, high staff turnover)\", \"Are there financial constraints that limit growth or improvements?\",\n",
                "                      \"Are there any gaps in the product offering?\", \"Are there customer complaints or negative reviews that need to be addressed?\"]\n",
                "opportunities_questions = [\"Is there potential for new products or services (e.g., catering, delivery)?\", \"Are there under-served customer segments or market areas?\",\n",
                "                           \"Can new technologies or systems enhance the business operations?\", \"Are there partnerships or local events that can be leveraged for marketing?\"]\n",
                "threats_questions = [\"Who are the major competitors and what are they offering?\", \"Are there potential negative impacts due to changes in the local area (e.g., construction, closure of nearby businesses)?\",\n",
                "                     \"Are there economic or industry trends that could impact the business negatively (e.g., increased ingredient costs)?\", \"Is there any risk due to changes in regulations or legislation (e.g., health and safety, employment)?\"]\n",
                "\n",
                "strengths = [\"Unique garlic pizza recipe that wins top awards\", \"Owner trained in Sicily at some of the best pizzerias\",\n",
                "             \"Strong local reputation\", \"Prime location on university campus\"]\n",
                "weaknesses = [\"High staff turnover\", \"Floods in the area damaged the seating areas that are in need of repair\",\n",
                "              \"Absence of popular calzones from menu\", \"Negative reviews from younger demographic for lack of hip ingredients\"]\n",
                "opportunities = [\"Untapped catering potential\", \"Growing local tech startup community\",\n",
                "                 \"Unexplored online presence and order capabilities\", \"Upcoming annual food fair\"]\n",
                "threats = [\"Competition from cheaper pizza businesses nearby\", \"There's nearby street construction that will impact foot traffic\",\n",
                "           \"Rising cost of cheese will increase the cost of pizzas\", \"No immediate local regulatory changes but it's election season\"]"
            ],
            "execution_count": null,
            "outputs": []
        },
        {
            "cell_type": "markdown",
            "metadata": {},
            "source": [
                "## Import into database {.smaller}\n",
                "\n",
                "- Create embeddings and store data"
            ]
        },
        {
            "cell_type": "code",
            "metadata": {},
            "source": [
                "memoryCollectionName = \"SWOT\"\n",
                "\n",
                "for i in range(len(strengths)):\n",
                "    await kernel.memory.save_information_async(memoryCollectionName, id=f\"strength-{i}\", text=f\"Internal business strength (S in SWOT) that makes customers happy and satisfied Q&A: Q: {strength_questions[i]} A: {strengths[i]}\")\n",
                "\n",
                "for i in range(len(weaknesses)):\n",
                "    await kernel.memory.save_information_async(memoryCollectionName, id=f\"weakness-{i}\", text=f\"Internal business weakness (W in SWOT) that makes customers unhappy and dissatisfied Q&A: Q: {weakness_questions[i]} A: {weaknesses[i]}\")\n",
                "\n",
                "for i in range(len(opportunities)):\n",
                "    await kernel.memory.save_information_async(memoryCollectionName, id=f\"opportunity-{i}\", text=f\"External opportunity (O in SWOT) for the business to gain entirely new customers Q&A: Q: {opportunities_questions[i]} A: {opportunities[i]}\")\n",
                "\n",
                "for i in range(len(threats)):\n",
                "    await kernel.memory.save_information_async(memoryCollectionName, id=f\"threat-{i}\", text=f\"External threat (T in SWOT) to the business that impacts its survival Q&A: Q: {threats_questions[i]} A: {threats[i]}\")"
            ],
            "execution_count": null,
            "outputs": []
        },
        {
            "cell_type": "markdown",
            "metadata": {},
            "source": [
                "# Use case: How to make more money?\n",
                "\n",
                "## Question"
            ]
        },
        {
            "cell_type": "code",
            "metadata": {},
            "source": [
                "potential_question = \"What are the easiest ways to make more money?\""
            ],
            "execution_count": null,
            "outputs": []
        },
        {
            "cell_type": "markdown",
            "metadata": {},
            "source": [
                "## Memory search"
            ]
        },
        {
            "cell_type": "code",
            "metadata": {},
            "source": [
                "counter = 0\n",
                "\n",
                "memories = await kernel.memory.search_async(memoryCollectionName, potential_question, limit=5, min_relevance_score=0.5)"
            ],
            "execution_count": null,
            "outputs": []
        },
        {
            "cell_type": "markdown",
            "metadata": {},
            "source": [
                "## Result"
            ]
        },
        {
            "cell_type": "code",
            "metadata": {},
            "source": [
                "display(Markdown(f\"### ❓ Potential question: {potential_question}\"))"
            ],
            "execution_count": null,
            "outputs": []
        },
        {
            "cell_type": "code",
            "metadata": {},
            "source": [
                "for memory in memories:\n",
                "    if counter == 0:\n",
                "        related_memory = memory.text\n",
                "    counter += 1\n",
                "    print(\n",
                "        f\"  > Similarity result {counter}:\\n  >> ID: {memory.id}\\n  Text: {memory.text}  Relevance: {memory.relevance}\\n\")"
            ],
            "execution_count": null,
            "outputs": []
        },
        {
            "cell_type": "markdown",
            "metadata": {},
            "source": [
                "## Result\n",
                "\n",
                "```markdown\n",
                "> Similarity result 1:\n",
                "  >> ID: opportunity-0\n",
                "  Text: External opportunity (O in SWOT) for the business to gain entirely new customers Q&A: Q: Is there potential for new products or services (e.g., catering, delivery)? A: Untapped catering potential  Relevance: 0.7721327504132071\n",
                "\n",
                "  > Similarity result 2:\n",
                "  >> ID: opportunity-3\n",
                "  Text: External opportunity (O in SWOT) for the business to gain entirely new customers Q&A: Q: Are there partnerships or local events that can be leveraged for marketing? A: Upcoming annual food fair  Relevance: 0.770177891378116\n",
                "\n",
                "  > Similarity result 3:\n",
                "  >> ID: opportunity-1\n",
                "  Text: External opportunity (O in SWOT) for the business to gain entirely new customers Q&A: Q: Are there under-served customer segments or market areas? A: Growing local tech startup community  Relevance: 0.7698220128086722\n",
                "\n",
                "  > Similarity result 4:\n",
                "  >> ID: opportunity-2\n",
                "  Text: External opportunity (O in SWOT) for the business to gain entirely new customers Q&A: Q: Can new technologies or systems enhance the business operations? A: Unexplored online presence and order capabilities  Relevance: 0.7676498736381523\n",
                "\n",
                "  > Similarity result 5:\n",
                "  >> ID: threat-0\n",
                "  Text: External threat (T in SWOT) to the business that impacts its survival Q&A: Q: Who are the major competitors and what are they offering? A: Competition from cheaper pizza businesses nearby  Relevance: 0.7522373129207561\n",
                "```\n",
                "\n",
                "# Use Case: How to Save Time?\n",
                "\n",
                "## Question"
            ]
        },
        {
            "cell_type": "code",
            "metadata": {},
            "source": [
                "what_if_scenario = \"How can the business owner save time?\""
            ],
            "execution_count": null,
            "outputs": []
        },
        {
            "cell_type": "markdown",
            "metadata": {},
            "source": [
                "## Memory search"
            ]
        },
        {
            "cell_type": "code",
            "metadata": {},
            "source": [
                "counter = 0\n",
                "gathered_context = []\n",
                "max_memories = 3"
            ],
            "execution_count": null,
            "outputs": []
        },
        {
            "cell_type": "markdown",
            "metadata": {},
            "source": [
                ""
            ]
        },
        {
            "cell_type": "code",
            "metadata": {},
            "source": [
                "memories = await kernel.memory.search_async(memoryCollectionName, what_if_scenario, limit=max_memories, min_relevance_score=0.77)"
            ],
            "execution_count": null,
            "outputs": []
        },
        {
            "cell_type": "markdown",
            "metadata": {},
            "source": [
                "## Save output to database"
            ]
        },
        {
            "cell_type": "code",
            "metadata": {},
            "source": [
                "print(f\"✨ Leveraging information available to address '{what_if_scenario}'...\")\n",
                "\n",
                "for memory in memories:\n",
                "    if counter == 0:\n",
                "        related_memory = memory.text\n",
                "    counter += 1\n",
                "    gathered_context.append(memory.text + \"\\n\")\n",
                "    print(f\"  > Hit {counter}: {memory.id} \")"
            ],
            "execution_count": null,
            "outputs": []
        },
        {
            "cell_type": "markdown",
            "metadata": {},
            "source": [
                "## Create presentation"
            ]
        },
        {
            "cell_type": "code",
            "metadata": {},
            "source": [
                "skillsDirectory = \"../plugins-sk\"\n",
                "\n",
                "pluginFC = kernel.import_semantic_skill_from_directory(\n",
                "    skillsDirectory, \"FriendlyConsultant\")"
            ],
            "execution_count": null,
            "outputs": []
        },
        {
            "cell_type": "markdown",
            "metadata": {},
            "source": [
                "## Context"
            ]
        },
        {
            "cell_type": "code",
            "metadata": {},
            "source": [
                "my_context = kernel.create_new_context()\n",
                "my_context['input'] = what_if_scenario\n",
                "my_context['context'] = \"\\n\".join(gathered_context)"
            ],
            "execution_count": null,
            "outputs": []
        },
        {
            "cell_type": "markdown",
            "metadata": {},
            "source": [
                "## Presentation output"
            ]
        },
        {
            "cell_type": "code",
            "metadata": {},
            "source": [
                "preso_result = await kernel.run_async(pluginFC[\"Presentation\"], input_context=my_context)"
            ],
            "execution_count": null,
            "outputs": []
        },
        {
            "cell_type": "code",
            "metadata": {},
            "source": [
                "display(Markdown(\"# ✨ Generated presentation ...\\n\"+str(preso_result)))"
            ],
            "execution_count": null,
            "outputs": []
        }
    ],
    "metadata": {
        "kernelspec": {
            "name": "python3",
            "language": "python",
            "display_name": "Python 3 (ipykernel)"
        }
    },
    "nbformat": 4,
    "nbformat_minor": 4
}