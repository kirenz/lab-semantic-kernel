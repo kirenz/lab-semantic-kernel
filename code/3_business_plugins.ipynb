{
    "cells": [
        {
            "cell_type": "markdown",
            "metadata": {},
            "source": [
                "# Business Plugins\n",
                "\n",
                "# Setup\n",
                "\n",
                "## Python\n"
            ]
        },
        {
            "cell_type": "code",
            "metadata": {},
            "source": [
                "import semantic_kernel as sk\n",
                "from semantic_kernel.connectors.ai.open_ai import AzureChatCompletion, OpenAIChatCompletion\n",
                "from IPython.display import display, Markdown"
            ],
            "execution_count": null,
            "outputs": []
        },
        {
            "cell_type": "markdown",
            "metadata": {},
            "source": [
                "## Kernel"
            ]
        },
        {
            "cell_type": "code",
            "metadata": {},
            "source": [
                "kernel = sk.Kernel()\n",
                "\n",
                "api_key, org_id = sk.openai_settings_from_dot_env()\n",
                "\n",
                "kernel.add_text_completion_service(\n",
                "    \"openai\", OpenAIChatCompletion(\"gpt-3.5-turbo\", api_key, org_id))"
            ],
            "execution_count": null,
            "outputs": []
        },
        {
            "cell_type": "markdown",
            "metadata": {},
            "source": [
                "# Business Plugins\n",
                "\n",
                "## Business goals\n",
                "\n",
                "1. Grow the existing business\n",
                "2. Save money and time\n",
                "3. Add completely new business\n",
                "4. Prepare for the unknown\n",
                "\n",
                "## Plugins directory {.smaller}\n",
                "\n",
                "```directory\n",
                "plugins-sk/\n",
                "│\n",
                "└─── BusinessThinking/\n",
                "     |\n",
                "     └─── BasicStrategies/\n",
                "     |    └─── config.json\n",
                "     |    └─── skprompt.txt\n",
                "     |\n",
                "     └─── SeekCostEfficiency/\n",
                "     |    └─── config.json\n",
                "     |    └─── skprompt.txt\n",
                "     |\n",
                "     └─── SeekTimeEfficiency/\n",
                "          └─── config.json\n",
                "          └─── skprompt.txt\n",
                "```\n",
                "\n",
                "## Activate plugins"
            ]
        },
        {
            "cell_type": "code",
            "metadata": {},
            "source": [
                "pluginsDirectory = \"../plugins-sk\"\n",
                "\n",
                "pluginBT = kernel.import_semantic_skill_from_directory(\n",
                "    pluginsDirectory, \"BusinessThinking\")"
            ],
            "execution_count": null,
            "outputs": []
        },
        {
            "cell_type": "markdown",
            "metadata": {},
            "source": [
                "# Cost Efficiency \n",
                "\n",
                "## Input strengths and weaknesses {.smaller}"
            ]
        },
        {
            "cell_type": "code",
            "metadata": {},
            "source": [
                "strengths = [\"Unique garlic pizza recipe that wins top awards\", \"Owner trained in Sicily at some of the best pizzerias\",\n",
                "             \"Strong local reputation\", \"Prime location on university campus\"]\n",
                "\n",
                "weaknesses = [\"High staff turnover\", \"Floods in the area damaged the seating areas that are in need of repair\",\n",
                "              \"Absence of popular calzones from menu\", \"Negative reviews from younger demographic for lack of hip ingredients\"]"
            ],
            "execution_count": null,
            "outputs": []
        },
        {
            "cell_type": "markdown",
            "metadata": {},
            "source": [
                "## Context"
            ]
        },
        {
            "cell_type": "code",
            "metadata": {},
            "source": [
                "my_context = kernel.create_new_context()\n",
                "\n",
                "my_context['input'] = 'makes pizzas'\n",
                "my_context['strengths'] = \", \".join(strengths)\n",
                "my_context['weaknesses'] = \", \".join(weaknesses)"
            ],
            "execution_count": null,
            "outputs": []
        },
        {
            "cell_type": "markdown",
            "metadata": {},
            "source": [
                "## Run kernel with cost efficiency plugin"
            ]
        },
        {
            "cell_type": "code",
            "metadata": {},
            "source": [
                "costefficiency_result = await kernel.run_async(pluginBT[\"SeekCostEfficiency\"], input_context=my_context)"
            ],
            "execution_count": null,
            "outputs": []
        },
        {
            "cell_type": "markdown",
            "metadata": {},
            "source": [
                "## Output"
            ]
        },
        {
            "cell_type": "code",
            "metadata": {},
            "source": [
                "costefficiency_str = str(\n",
                "    \"### ✨ Suggestions for how to gain cost efficiencies\\n\" + str(costefficiency_result))"
            ],
            "execution_count": null,
            "outputs": []
        },
        {
            "cell_type": "markdown",
            "metadata": {},
            "source": [
                ""
            ]
        },
        {
            "cell_type": "code",
            "metadata": {},
            "source": [
                "display(Markdown(costefficiency_str))"
            ],
            "execution_count": null,
            "outputs": []
        },
        {
            "cell_type": "markdown",
            "metadata": {},
            "source": [
                "# Business Strategy\n",
                "\n",
                "## Input opportunities and threats"
            ]
        },
        {
            "cell_type": "code",
            "metadata": {},
            "source": [
                "opportunities = [\"Untapped catering potential\", \"Growing local tech startup community\",\n",
                "                 \"Unexplored online presence and order capabilities\", \"Upcoming annual food fair\"]\n",
                "\n",
                "threats = [\"Competition from cheaper pizza businesses nearby\", \"There's nearby street construction that will impact foot traffic\",\n",
                "           \"Rising cost of cheese will increase the cost of pizzas\", \"No immediate local regulatory changes but it's election season\"]"
            ],
            "execution_count": null,
            "outputs": []
        },
        {
            "cell_type": "markdown",
            "metadata": {},
            "source": [
                "## Import plugin"
            ]
        },
        {
            "cell_type": "code",
            "metadata": {},
            "source": [
                "pluginBT = kernel.import_semantic_skill_from_directory(\n",
                "    pluginsDirectory, \"BusinessThinking\")"
            ],
            "execution_count": null,
            "outputs": []
        },
        {
            "cell_type": "markdown",
            "metadata": {},
            "source": [
                "## Context"
            ]
        },
        {
            "cell_type": "code",
            "metadata": {},
            "source": [
                "my_context = kernel.create_new_context()\n",
                "\n",
                "my_context['input'] = 'makes pizzas'\n",
                "my_context['strengths'] = \", \".join(strengths)\n",
                "my_context['weaknesses'] = \", \".join(weaknesses)\n",
                "my_context['opportunities'] = \", \".join(opportunities)\n",
                "my_context['threats'] = \", \".join(threats)"
            ],
            "execution_count": null,
            "outputs": []
        },
        {
            "cell_type": "markdown",
            "metadata": {},
            "source": [
                "## Run kernel "
            ]
        },
        {
            "cell_type": "code",
            "metadata": {},
            "source": [
                "bizstrat_result = await kernel.run_async(pluginBT[\"BasicStrategies\"], input_context=my_context)"
            ],
            "execution_count": null,
            "outputs": []
        },
        {
            "cell_type": "markdown",
            "metadata": {},
            "source": [
                "## Output"
            ]
        },
        {
            "cell_type": "code",
            "metadata": {},
            "source": [
                "bizstrat_str = \"## ✨ Business strategy thinking based on SWOT analysis\\n\" + \\\n",
                "    str(bizstrat_result)"
            ],
            "execution_count": null,
            "outputs": []
        },
        {
            "cell_type": "markdown",
            "metadata": {},
            "source": [
                ""
            ]
        },
        {
            "cell_type": "code",
            "metadata": {},
            "source": [
                "display(Markdown(bizstrat_str))"
            ],
            "execution_count": null,
            "outputs": []
        }
    ],
    "metadata": {
        "kernelspec": {
            "name": "python3",
            "language": "python",
            "display_name": "Python 3 (ipykernel)"
        }
    },
    "nbformat": 4,
    "nbformat_minor": 4
}