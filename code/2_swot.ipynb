{
    "cells": [
        {
            "cell_type": "markdown",
            "metadata": {},
            "source": [
                "# Create a SWOT with the Semantic Kernel\n",
                "\n",
                "# Setup\n",
                "\n",
                "## Python"
            ]
        },
        {
            "cell_type": "code",
            "metadata": {},
            "source": [
                "from semantic_kernel.skill_definition import (\n",
                "    sk_function,\n",
                "    sk_function_context_parameter,\n",
                ")\n",
                "import semantic_kernel as sk\n",
                "\n",
                "from semantic_kernel.connectors.ai.open_ai import AzureChatCompletion, OpenAIChatCompletion\n",
                "from IPython.display import display, Markdown"
            ],
            "execution_count": null,
            "outputs": []
        },
        {
            "cell_type": "markdown",
            "metadata": {},
            "source": [
                "## Kernel"
            ]
        },
        {
            "cell_type": "code",
            "metadata": {},
            "source": [
                "kernel = sk.Kernel()\n",
                "\n",
                "api_key, org_id = sk.openai_settings_from_dot_env()\n",
                "\n",
                "kernel.add_text_completion_service(\n",
                "    \"openai\", OpenAIChatCompletion(\"gpt-3.5-turbo\", api_key, org_id))\n",
                "\n",
                "print(\"A kernel is now ready.\")"
            ],
            "execution_count": null,
            "outputs": []
        },
        {
            "cell_type": "markdown",
            "metadata": {},
            "source": [
                "# Semantic Function\n",
                "\n",
                "## Prompt template "
            ]
        },
        {
            "cell_type": "code",
            "metadata": {},
            "source": [
                "sk_prompt = \"\"\"\n",
                "{{$input}}\n",
                "\n",
                "Summarize the content above in less than 140 characters.\n",
                "\"\"\""
            ],
            "execution_count": null,
            "outputs": []
        },
        {
            "cell_type": "markdown",
            "metadata": {},
            "source": [
                "## Define semantic function"
            ]
        },
        {
            "cell_type": "code",
            "metadata": {},
            "source": [
                "summary_function = kernel.create_semantic_function(prompt_template=sk_prompt,\n",
                "                                                   description=\"Summarizes the input to length of an old tweet.\",\n",
                "                                                   max_tokens=200,\n",
                "                                                   temperature=0.1,\n",
                "                                                   top_p=0.5)\n",
                "# as a reminder\n",
                "print(\"A semantic function for summarization has been registered.\")"
            ],
            "execution_count": null,
            "outputs": []
        },
        {
            "cell_type": "markdown",
            "metadata": {},
            "source": [
                "## Prompt input {.smaller}"
            ]
        },
        {
            "cell_type": "code",
            "metadata": {},
            "source": [
                "sk_input = \"\"\"\n",
                "Let me illustrate an example. Many weekends, I drive a few minutes from my house to a local pizza store to buy \n",
                "a slice of Hawaiian pizza from the gentleman that owns this pizza store. And his pizza is great, but he always \n",
                "has a lot of cold pizzas sitting around, and every weekend some different flavor of pizza is out of stock. \n",
                "But when I watch him operate his store, I get excited, because by selling pizza, he is generating data. \n",
                "And this is data that he can take advantage of if he had access to AI.\n",
                "\n",
                "AI systems are good at spotting patterns when given access to the right data, and perhaps an AI system could spot \n",
                "if Mediterranean pizzas sell really well on a Friday night, maybe it could suggest to him to make more of it on a \n",
                "Friday afternoon. Now you might say to me, \"Hey, Andrew, this is a small pizza store. What's the big deal?\" And I \n",
                "say, to the gentleman that owns this pizza store, something that could help him improve his revenues by a few \n",
                "thousand dollars a year, that will be a huge deal to him.\n",
                "\"\"\"\n",
                "# Text source: https://www.ted.com/talks/andrew_ng_how_ai_could_empower_any_business/transcript\n"
            ],
            "execution_count": null,
            "outputs": []
        },
        {
            "cell_type": "markdown",
            "metadata": {},
            "source": [
                "## Run kernel "
            ]
        },
        {
            "cell_type": "code",
            "metadata": {},
            "source": [
                "summary_result = await kernel.run_async(summary_function,\n",
                "                                        input_str=sk_input)"
            ],
            "execution_count": null,
            "outputs": []
        },
        {
            "cell_type": "markdown",
            "metadata": {},
            "source": [
                "## Output"
            ]
        },
        {
            "cell_type": "code",
            "metadata": {
                "output-location": "slide"
            },
            "source": [
                "display(Markdown(\"### ✨ \" + str(summary_result)))"
            ],
            "execution_count": null,
            "outputs": []
        },
        {
            "cell_type": "markdown",
            "metadata": {},
            "source": [
                "- ✨ AI can help a small pizza store owner improve revenues by analyzing data and suggesting changes, like making more popular pizzas on certain days.\n",
                "\n",
                "## Alternative to run kernel: summary_function\n",
                "\n",
                "- Shorter version to call semantic function (same result)\n",
                "\n",
                ""
            ]
        },
        {
            "cell_type": "code",
            "metadata": {},
            "source": [
                "summary_result = summary_function(sk_input)"
            ],
            "execution_count": null,
            "outputs": []
        },
        {
            "cell_type": "markdown",
            "metadata": {},
            "source": [
                ""
            ]
        },
        {
            "cell_type": "code",
            "metadata": {
                "output-location": "slide"
            },
            "source": [
                "display(Markdown(\"### ✨ \" + str(summary_result)))"
            ],
            "execution_count": null,
            "outputs": []
        },
        {
            "cell_type": "markdown",
            "metadata": {},
            "source": [
                "- ✨ AI can help a small pizza store owner increase revenue by analyzing data to identify patterns and make informed decisions.\n",
                "\n",
                "# Register Native functions\n",
                "\n",
                "## Define a function {.smaller}\n",
                "\n",
                "- Write some function"
            ]
        },
        {
            "cell_type": "code",
            "metadata": {},
            "source": [
                "class ExoticLanguagePlugin:\n",
                "    def word_to_pig_latin(self, word):\n",
                "        vowels = \"AEIOUaeiou\"\n",
                "        if word[0] in vowels:\n",
                "            return word + \"way\"\n",
                "        for idx, letter in enumerate(word):\n",
                "            if letter in vowels:\n",
                "                break\n",
                "        else:\n",
                "            return word + \"ay\"\n",
                "        return word[idx:] + word[:idx] + \"ay\"\n",
                "\n",
                "    @sk_function(\n",
                "        description=\"Takes text and converts it to pig latin\",\n",
                "        name=\"pig_latin\",\n",
                "        input_description=\"The text to convert to pig latin\",\n",
                "    )\n",
                "    def pig_latin(self, sentence: str) -> str:\n",
                "        words = sentence.split()\n",
                "        pig_latin_words = []\n",
                "        for word in words:\n",
                "            pig_latin_words.append(self.word_to_pig_latin(word))\n",
                "        return ' '.join(pig_latin_words)\n"
            ],
            "execution_count": null,
            "outputs": []
        },
        {
            "cell_type": "markdown",
            "metadata": {},
            "source": [
                "## Register function\n",
                "\n",
                "- Register custom function in the kernel\n",
                "\n",
                ""
            ]
        },
        {
            "cell_type": "code",
            "metadata": {},
            "source": [
                "exotic_language_plugin = kernel.import_skill(\n",
                "    ExoticLanguagePlugin(), skill_name=\"exotic_language_plugin\")\n",
                "\n",
                "pig_latin_function = exotic_language_plugin[\"pig_latin\"]\n"
            ],
            "execution_count": null,
            "outputs": []
        },
        {
            "cell_type": "markdown",
            "metadata": {},
            "source": [
                "## Run kernel with semantic function and native function"
            ]
        },
        {
            "cell_type": "code",
            "metadata": {},
            "source": [
                "final_result = await kernel.run_async(summary_function,\n",
                "                                      pig_latin_function,\n",
                "                                      input_str=sk_input)"
            ],
            "execution_count": null,
            "outputs": []
        },
        {
            "cell_type": "markdown",
            "metadata": {},
            "source": [
                "## Output"
            ]
        },
        {
            "cell_type": "code",
            "metadata": {
                "output-location": "slide"
            },
            "source": [
                "display(Markdown(\"### ✨ \" + str(final_result)))"
            ],
            "execution_count": null,
            "outputs": []
        },
        {
            "cell_type": "markdown",
            "metadata": {},
            "source": [
                "- ✨ AIway ancay elphay away allsmay izzapay orestay ownerway increaseway evenueray byay analyzingway ataday andway uggestingsay opularpay izzapay avorsflay onway ecificspay ays.day\n",
                "\n",
                "\n",
                "# SWOT Basics\n",
                "\n",
                "## Strengths\n",
                "\n",
                "1. **Strengths**\n",
                "    - What unique recipes or ingredients does the pizza shop use?\n",
                "    - What are the skills and experience of the staff?\n",
                "    - Does the pizza shop have a strong reputation in the local area?\n",
                "    - Are there any unique features of the shop or its location that attract customers?\n",
                "\n",
                "## Weaknesses\n",
                "\n",
                "2. **Weaknesses**\n",
                "    - What are the operational challenges of the pizza shop? (e.g., slow service, high staff turnover)\n",
                "    - Are there financial constraints that limit growth or improvements?\n",
                "    - Are there any gaps in the product offering?\n",
                "    - Are there customer complaints or negative reviews that need to be addressed?\n",
                "\n",
                "## Opportunities\n",
                "\n",
                "3. **Opportunities**\n",
                "    - Is there potential for new products or services (e.g., catering, delivery)?\n",
                "    - Are there under-served customer segments or market areas?\n",
                "    - Can new technologies or systems enhance the business operations?\n",
                "    - Are there partnerships or local events that can be leveraged for marketing?\n",
                "\n",
                "## Threats\n",
                "\n",
                "4. **Threats**\n",
                "    - Who are the major competitors and what are they offering?\n",
                "    - Are there potential negative impacts due to changes in the local area (e.g., construction, closure of nearby businesses)?\n",
                "    - Are there economic or industry trends that could impact the business negatively (e.g., increased ingredient costs)?\n",
                "    - Is there any risk due to changes in regulations or legislation (e.g., health and safety, employment)?\n",
                "\n",
                "## SW Overview\n",
                "\n",
                "| **Strengths**                                     | **Weaknesses**                                               |\n",
                "| --- | --- |\n",
                "| Unique garlic pizza recipe that wins top awards  | High staff turnover                                          |\n",
                "| Owner trained in Sicily at some of the best pizzerias                          | Floods in the area damaged the seating areas that are in need of repair  |\n",
                "| Strong local reputation                           | Absence of popular calzones from menu                        |\n",
                "| Prime location on university campus               | Negative reviews from younger demographic for lack of hip ingredients |\n",
                "\n",
                "\n",
                "Meanwhile there's money being left on the table (their opportunities) with calamities (their threats) waiting in the wings to possibly happen and may knock their pizza shop out cold.\n",
                "\n",
                "## OT overview\n",
                "\n",
                "| **Opportunities**                                 | **Threats**                                                  |\n",
                "| --- | ---|\n",
                "| Untapped catering potential                       | Rising competition from cheaper pizza businesses nearby |\n",
                "| Growing local tech startup community              | There's nearby street construction that will impact foot traffic |\n",
                "| Unexplored online presence and order capabilities | Rising cost of cheese                                        |\n",
                "| Upcoming annual food fair                         | No immediate local regulatory changes but it's election season |\n",
                "\n",
                "\n",
                "# SWOT Workflow\n",
                "\n",
                "## Input {.smaller}"
            ]
        },
        {
            "cell_type": "code",
            "metadata": {},
            "source": [
                "swot_interview = \"\"\"\n",
                "1. **Strengths**\n",
                "    - What unique recipes or ingredients does the pizza shop use?\n",
                "    - What are the skills and experience of the staff?\n",
                "    - Does the pizza shop have a strong reputation in the local area?\n",
                "    - Are there any unique features of the shop or its location that attract customers?\n",
                "2. **Weaknesses**\n",
                "    - What are the operational challenges of the pizza shop? (e.g., slow service, high staff turnover)\n",
                "    - Are there financial constraints that limit growth or improvements?\n",
                "    - Are there any gaps in the product offering?\n",
                "    - Are there customer complaints or negative reviews that need to be addressed?\n",
                "3. **Opportunities**\n",
                "    - Is there potential for new products or services (e.g., catering, delivery)?\n",
                "    - Are there under-served customer segments or market areas?\n",
                "    - Can new technologies or systems enhance the business operations?\n",
                "    - Are there partnerships or local events that can be leveraged for marketing?\n",
                "4. **Threats**\n",
                "    - Who are the major competitors and what are they offering?\n",
                "    - Are there potential negative impacts due to changes in the local area (e.g., construction, closure of nearby businesses)?\n",
                "    - Are there economic or industry trends that could impact the business negatively (e.g., increased ingredient costs)?\n",
                "    - Is there any risk due to changes in regulations or legislation (e.g., health and safety, employment)?\"\"\""
            ],
            "execution_count": null,
            "outputs": []
        },
        {
            "cell_type": "markdown",
            "metadata": {},
            "source": [
                "## Prompt template"
            ]
        },
        {
            "cell_type": "code",
            "metadata": {},
            "source": [
                "sk_prompt = \"\"\"\n",
                "{{$input}}\n",
                "\n",
                "Convert the analysis provided above to the business domain of {{$domain}}.\n",
                "\"\"\""
            ],
            "execution_count": null,
            "outputs": []
        },
        {
            "cell_type": "markdown",
            "metadata": {},
            "source": [
                "## Define semantic function"
            ]
        },
        {
            "cell_type": "code",
            "metadata": {},
            "source": [
                "shift_domain_function = kernel.create_semantic_function(prompt_template=sk_prompt,\n",
                "                                                        description=\"Translate an idea to another domain.\",\n",
                "                                                        max_tokens=1000,\n",
                "                                                        temperature=0.1,\n",
                "                                                        top_p=0.5)"
            ],
            "execution_count": null,
            "outputs": []
        },
        {
            "cell_type": "markdown",
            "metadata": {},
            "source": [
                "## Context"
            ]
        },
        {
            "cell_type": "code",
            "metadata": {},
            "source": [
                "my_context = kernel.create_new_context()"
            ],
            "execution_count": null,
            "outputs": []
        },
        {
            "cell_type": "markdown",
            "metadata": {},
            "source": [
                ""
            ]
        },
        {
            "cell_type": "code",
            "metadata": {},
            "source": [
                "my_context['input'] = swot_interview\n",
                "my_context['domain'] = \"construction management\""
            ],
            "execution_count": null,
            "outputs": []
        },
        {
            "cell_type": "markdown",
            "metadata": {},
            "source": [
                "## Run kernel"
            ]
        },
        {
            "cell_type": "code",
            "metadata": {},
            "source": [
                "result = await kernel.run_async(shift_domain_function,\n",
                "                                input_context=my_context)"
            ],
            "execution_count": null,
            "outputs": []
        },
        {
            "cell_type": "markdown",
            "metadata": {},
            "source": [
                "## Output"
            ]
        },
        {
            "cell_type": "code",
            "metadata": {
                "output-location": "slide"
            },
            "source": [
                "display(Markdown(\n",
                "    f\"### ✨ Shift the SWOT interview questions to the world of {my_context['domain']}\\n\" + str(result)))"
            ],
            "execution_count": null,
            "outputs": []
        },
        {
            "cell_type": "markdown",
            "metadata": {},
            "source": [
                "\n",
                "\n",
                "```markdown\n",
                "✨ Shift the SWOT interview questions to the world of construction management\n",
                "1. **Strengths**\n",
                "What unique construction methods or techniques does the construction company use?\n",
                "What are the skills and experience of the construction team?\n",
                "Does the construction company have a strong reputation in the local area?\n",
                "Are there any unique features of the company or its projects that attract clients?\n",
                "2. **Weaknesses**\n",
                "What are the operational challenges of the construction company? (e.g., delays in project completion, high employee turnover)\n",
                "Are there financial constraints that limit growth or improvements?\n",
                "Are there any gaps in the services offered by the company?\n",
                "Are there client complaints or negative reviews that need to be addressed?\n",
                "3. **Opportunities**\n",
                "Is there potential for new construction projects or services (e.g., renovation, green building)?\n",
                "Are there under-served client segments or market areas?\n",
                "Can new technologies or systems enhance the construction processes?\n",
                "Are there partnerships or local events that can be leveraged for marketing?\n",
                "4. **Threats**\n",
                "Who are the major competitors in the construction industry and what services do they offer?\n",
                "Are there potential negative impacts due to changes in the local area (e.g., zoning regulations, environmental restrictions)?\n",
                "Are there economic or industry trends that could impact the construction business negatively (e.g., increased material costs)?\n",
                "Is there any risk due to changes in regulations or legislation (e.g., safety regulations, building codes)?\n",
                "```\n",
                "\n",
                "\n",
                "# Change Output Style\n",
                "\n",
                "## Prompt template"
            ]
        },
        {
            "cell_type": "code",
            "metadata": {},
            "source": [
                "sk_prompt = \"\"\"\n",
                "{{$input}}\n",
                "\n",
                "Rewrite the text above to be understood by a {{$level}}.\n",
                "\"\"\""
            ],
            "execution_count": null,
            "outputs": []
        },
        {
            "cell_type": "markdown",
            "metadata": {},
            "source": [
                "## Define semantic function"
            ]
        },
        {
            "cell_type": "code",
            "metadata": {},
            "source": [
                "shift_reading_level_function = kernel.create_semantic_function(prompt_template=sk_prompt,\n",
                "                                                               description=\"Change the reading level of a given text.\",\n",
                "                                                               max_tokens=1000,\n",
                "                                                               temperature=0.1,\n",
                "                                                               top_p=0.5)"
            ],
            "execution_count": null,
            "outputs": []
        },
        {
            "cell_type": "markdown",
            "metadata": {},
            "source": [
                "## Context"
            ]
        },
        {
            "cell_type": "code",
            "metadata": {},
            "source": [
                "my_context['input'] = swot_interview\n",
                "my_context['domain'] = \"construction management\"\n",
                "my_context[\"level\"] = \"child\""
            ],
            "execution_count": null,
            "outputs": []
        },
        {
            "cell_type": "markdown",
            "metadata": {},
            "source": [
                "## Run kernel"
            ]
        },
        {
            "cell_type": "code",
            "metadata": {},
            "source": [
                "result = await kernel.run_async(shift_domain_function, shift_reading_level_function, input_context=my_context)"
            ],
            "execution_count": null,
            "outputs": []
        },
        {
            "cell_type": "markdown",
            "metadata": {},
            "source": [
                "## Output"
            ]
        },
        {
            "cell_type": "code",
            "metadata": {
                "output-location": "slide"
            },
            "source": [
                "display(Markdown(\n",
                "    f\"### ✨ Shift the SWOT interview questions to the world of {my_context['domain']} at the level of {my_context['level']}\\n\" + str(result)))"
            ],
            "execution_count": null,
            "outputs": []
        }
    ],
    "metadata": {
        "kernelspec": {
            "name": "python3",
            "language": "python",
            "display_name": "Python 3 (ipykernel)"
        }
    },
    "nbformat": 4,
    "nbformat_minor": 4
}