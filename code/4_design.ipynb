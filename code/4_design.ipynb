{
    "cells": [
        {
            "cell_type": "markdown",
            "metadata": {},
            "source": [
                "# Design Thinking\n",
                "\n",
                "![](../images/designthinking.png)\n",
                "\n",
                "# Setup\n",
                "\n",
                "## Python"
            ]
        },
        {
            "cell_type": "code",
            "metadata": {},
            "source": [
                "import json\n",
                "\n",
                "import semantic_kernel as sk\n",
                "from semantic_kernel.connectors.ai.open_ai import AzureChatCompletion, OpenAIChatCompletion\n",
                "from IPython.display import display, Markdown"
            ],
            "execution_count": null,
            "outputs": []
        },
        {
            "cell_type": "markdown",
            "metadata": {},
            "source": [
                "## Kernel"
            ]
        },
        {
            "cell_type": "code",
            "metadata": {},
            "source": [
                "kernel = sk.Kernel()\n",
                "\n",
                "api_key, org_id = sk.openai_settings_from_dot_env()\n",
                "\n",
                "kernel.add_text_completion_service(\n",
                "    \"openai\", OpenAIChatCompletion(\"gpt-3.5-turbo-0301\", api_key, org_id))\n",
                "\n",
                "print(\"A kernel is now ready.\")"
            ],
            "execution_count": null,
            "outputs": []
        },
        {
            "cell_type": "markdown",
            "metadata": {},
            "source": [
                "## Plugins {.smaller}"
            ]
        },
        {
            "cell_type": "code",
            "metadata": {},
            "source": [
                "pluginsDirectory = \"../plugins-sk\"\n",
                "\n",
                "pluginDT = kernel.import_semantic_skill_from_directory(\n",
                "    pluginsDirectory, \"DesignThinking\")"
            ],
            "execution_count": null,
            "outputs": []
        },
        {
            "cell_type": "markdown",
            "metadata": {},
            "source": [
                "```directory\n",
                "plugins-sk/\n",
                "│\n",
                "└─── DesignThinking/\n",
                "     |\n",
                "     └─── Define/\n",
                "     |    └─── config.json\n",
                "     |    └─── skprompt.txt\n",
                "     |\n",
                "     └─── Empathize/\n",
                "          └─── config.json\n",
                "          └─── skprompt.txt\n",
                "\n",
                "```\n",
                "\n",
                "# Provide Input\n",
                "\n",
                "## Strength questions"
            ]
        },
        {
            "cell_type": "code",
            "metadata": {},
            "source": [
                "strength_questions = [\"What unique recipes or ingredients does the pizza shop use?\", \"What are the skills and experience of the staff?\", \"Does the pizza shop have a strong reputation in the local area?\",\n",
                "                      \"Are there any unique features of the shop or its location that attract customers?\", \"Does the pizza shop have a strong reputation in the local area?\", \"Are there any unique features of the shop or its location that attract customers?\"]"
            ],
            "execution_count": null,
            "outputs": []
        },
        {
            "cell_type": "markdown",
            "metadata": {},
            "source": [
                "## Weakness questions"
            ]
        },
        {
            "cell_type": "code",
            "metadata": {},
            "source": [
                "weakness_questions = [\"What are the operational challenges of the pizza shop? (e.g., slow service, high staff turnover)\", \"Are there financial constraints that limit growth or improvements?\",\n",
                "                      \"Are there any gaps in the product offering?\", \"Are there customer complaints or negative reviews that need to be addressed?\"]"
            ],
            "execution_count": null,
            "outputs": []
        },
        {
            "cell_type": "markdown",
            "metadata": {},
            "source": [
                "## Opportunities questions"
            ]
        },
        {
            "cell_type": "code",
            "metadata": {},
            "source": [
                "opportunities_questions = [\"Is there potential for new products or services (e.g., catering, delivery)?\", \"Are there under-served customer segments or market areas?\",\n",
                "                           \"Can new technologies or systems enhance the business operations?\", \"Are there partnerships or local events that can be leveraged for marketing?\"]"
            ],
            "execution_count": null,
            "outputs": []
        },
        {
            "cell_type": "markdown",
            "metadata": {},
            "source": [
                "## Threats questions"
            ]
        },
        {
            "cell_type": "code",
            "metadata": {},
            "source": [
                "threats_questions = [\"Who are the major competitors and what are they offering?\", \"Are there potential negative impacts due to changes in the local area (e.g., construction, closure of nearby businesses)?\",\n",
                "                     \"Are there economic or industry trends that could impact the business negatively (e.g., increased ingredient costs)?\", \"Is there any risk due to changes in regulations or legislation (e.g., health and safety, employment)?\"]"
            ],
            "execution_count": null,
            "outputs": []
        },
        {
            "cell_type": "markdown",
            "metadata": {},
            "source": [
                "## Strenghts"
            ]
        },
        {
            "cell_type": "code",
            "metadata": {},
            "source": [
                "strengths = [\"Unique garlic pizza recipe that wins top awards\", \"Owner trained in Sicily\",\n",
                "             \"Strong local reputation\", \"Prime location on university campus\"]"
            ],
            "execution_count": null,
            "outputs": []
        },
        {
            "cell_type": "markdown",
            "metadata": {},
            "source": [
                "## Weaknesses"
            ]
        },
        {
            "cell_type": "code",
            "metadata": {},
            "source": [
                "weaknesses = [\"High staff turnover\", \"Floods in the area damaged the seating areas that are in need of repair\",\n",
                "              \"Absence of popular calzones from menu\", \"Negative reviews from younger demographic for lack of hip ingredients\"]"
            ],
            "execution_count": null,
            "outputs": []
        },
        {
            "cell_type": "markdown",
            "metadata": {},
            "source": [
                "## Opportunities"
            ]
        },
        {
            "cell_type": "code",
            "metadata": {},
            "source": [
                "opportunities = [\"Untapped catering potential\", \"Growing local tech startup community\",\n",
                "                 \"Unexplored online presence and order capabilities\", \"Upcoming annual food fair\"]"
            ],
            "execution_count": null,
            "outputs": []
        },
        {
            "cell_type": "markdown",
            "metadata": {},
            "source": [
                "## Threats"
            ]
        },
        {
            "cell_type": "code",
            "metadata": {},
            "source": [
                "threats = [\"Competition from cheaper pizza businesses nearby\", \"There's nearby street construction that will impact foot traffic\",\n",
                "           \"Rising cost of cheese will increase the cost of pizzas\", \"No immediate local regulatory changes but it's election season\"]"
            ],
            "execution_count": null,
            "outputs": []
        },
        {
            "cell_type": "markdown",
            "metadata": {},
            "source": [
                "## Customer comments {.smaller}"
            ]
        },
        {
            "cell_type": "code",
            "metadata": {},
            "source": [
                "customer_comments = \"\"\"\n",
                "Customer 1: The seats look really raggedy.\n",
                "Customer 2: The garlic pizza is the best on this earth.\n",
                "Customer 3: I've noticed that there's a new server every time I visit, and they're clueless.\n",
                "Customer 4: Why aren't there calzones?\n",
                "Customer 5: I love the garlic pizza and can't get it anywhere else.\n",
                "Customer 6: The garlic pizza is exceptional.\n",
                "Customer 7: I prefer a calzone's portable nature as compared with pizza.\n",
                "Customer 8: Why is the pizza so expensive?\n",
                "Customer 9: There's no way to do online ordering.\n",
                "Customer 10: Why is the seating so uncomfortable and dirty?\n",
                "\"\"\""
            ],
            "execution_count": null,
            "outputs": []
        },
        {
            "cell_type": "markdown",
            "metadata": {},
            "source": [
                "# Workflow for Empathize\n",
                "\n",
                "## Run kernel with plugin"
            ]
        },
        {
            "cell_type": "code",
            "metadata": {},
            "source": [
                "my_result = await kernel.run_async(pluginDT[\"Empathize\"], input_str=customer_comments)"
            ],
            "execution_count": null,
            "outputs": []
        },
        {
            "cell_type": "markdown",
            "metadata": {},
            "source": [
                "## Output"
            ]
        },
        {
            "cell_type": "code",
            "metadata": {
                "output-location": "slide"
            },
            "source": [
                "display(Markdown(\n",
                "    \"## ✨ The categorized observations from the 'Empathize' phase of design thinking\\n\"))\n",
                "print(json.dumps(json.loads(str(my_result)), indent=2))"
            ],
            "execution_count": null,
            "outputs": []
        },
        {
            "cell_type": "markdown",
            "metadata": {},
            "source": [
                "# Workflow for Define\n",
                "\n",
                "## Run kernel with plugins\n",
                "\n",
                "- Kernel works sequentially (first uses plugin `Empathize`, then `Define`)\n",
                "\n",
                ""
            ]
        },
        {
            "cell_type": "code",
            "metadata": {},
            "source": [
                "my_result = await kernel.run_async(pluginDT[\"Empathize\"], pluginDT[\"Define\"], input_str=customer_comments)"
            ],
            "execution_count": null,
            "outputs": []
        },
        {
            "cell_type": "markdown",
            "metadata": {},
            "source": [
                "## Output"
            ]
        },
        {
            "cell_type": "code",
            "metadata": {
                "output-location": "slide"
            },
            "source": [
                "display(Markdown(\"## ✨ The categorized observations from the 'Empathize' + 'Define' phases of design thinking\\n\"+str(my_result)))"
            ],
            "execution_count": null,
            "outputs": []
        },
        {
            "cell_type": "markdown",
            "metadata": {},
            "source": [
                "# Workflow for Ideation & Prototyping\n",
                "\n",
                "## Run kernel"
            ]
        },
        {
            "cell_type": "code",
            "metadata": {},
            "source": [
                "my_result = await kernel.run_async(pluginDT[\"Empathize\"], pluginDT[\"Define\"], pluginDT[\"Ideate\"], pluginDT[\"PrototypeWithPaper\"], input_str=customer_comments)"
            ],
            "execution_count": null,
            "outputs": []
        },
        {
            "cell_type": "markdown",
            "metadata": {},
            "source": [
                "## Output"
            ]
        },
        {
            "cell_type": "code",
            "metadata": {
                "output-location": "slide"
            },
            "source": [
                "display(Markdown(\"## ✨ The categorized observations from the 'Empathize' + 'Define' + 'Ideate' + 'Prototype' + phases of design thinking\\n\"+str(my_result)))"
            ],
            "execution_count": null,
            "outputs": []
        },
        {
            "cell_type": "markdown",
            "metadata": {},
            "source": [
                "# Workflow for Evaluation\n",
                "\n",
                "## Prompt template"
            ]
        },
        {
            "cell_type": "code",
            "metadata": {},
            "source": [
                "sk_prompt = \"\"\"\n",
                "A 40-year old man who has just finished his shift at work and comes into the bar. They are in a bad mood.\n",
                "\n",
                "They are given an experience like:\n",
                "{{$input}}\n",
                "\n",
                "Summarize their possible reactions to this experience.\n",
                "\"\"\""
            ],
            "execution_count": null,
            "outputs": []
        },
        {
            "cell_type": "markdown",
            "metadata": {},
            "source": [
                "## Test function"
            ]
        },
        {
            "cell_type": "code",
            "metadata": {},
            "source": [
                "test_function = kernel.create_semantic_function(prompt_template=sk_prompt,\n",
                "                                                description=\"Simulates reaction to an experience.\",\n",
                "                                                max_tokens=1000,\n",
                "                                                temperature=0.1,\n",
                "                                                top_p=0.5)"
            ],
            "execution_count": null,
            "outputs": []
        },
        {
            "cell_type": "markdown",
            "metadata": {},
            "source": [
                "## Example prototype idea"
            ]
        },
        {
            "cell_type": "code",
            "metadata": {},
            "source": [
                "sk_input = \"\"\"\n",
                "A simple loyalty card that includes details such as the rewards for each level of loyalty, how to earn points, and how to redeem rewards is given to every person visiting the bar.\n",
                "\"\"\""
            ],
            "execution_count": null,
            "outputs": []
        },
        {
            "cell_type": "markdown",
            "metadata": {},
            "source": [
                "## Run kernel"
            ]
        },
        {
            "cell_type": "code",
            "metadata": {},
            "source": [
                "test_result = await kernel.run_async(test_function, input_str=sk_input)"
            ],
            "execution_count": null,
            "outputs": []
        },
        {
            "cell_type": "markdown",
            "metadata": {},
            "source": [
                "## Output"
            ]
        },
        {
            "cell_type": "code",
            "metadata": {
                "output-location": "slide"
            },
            "source": [
                "display(Markdown(\"### ✨ \" + str(test_result)))"
            ],
            "execution_count": null,
            "outputs": []
        }
    ],
    "metadata": {
        "kernelspec": {
            "name": "python3",
            "language": "python",
            "display_name": "Python 3 (ipykernel)"
        }
    },
    "nbformat": 4,
    "nbformat_minor": 4
}