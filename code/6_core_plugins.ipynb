{
    "cells": [
        {
            "cell_type": "markdown",
            "metadata": {},
            "source": [
                "# Core Plugins\n",
                "\n",
                "![](../images/plugins.png)\n",
                "\n",
                "- We want to have a vat of plugins ... and then find the right plugin to fit the goal ...\n",
                "\n",
                "- You can find more about the predefined plugins used below [here](https://learn.microsoft.com/en-us/semantic-kernel/ai-orchestration/out-of-the-box-plugins?tabs=Csharp).\n",
                "\n",
                "\n",
                "# Setup\n",
                "\n",
                "## Python"
            ]
        },
        {
            "cell_type": "code",
            "metadata": {},
            "source": [
                "import semantic_kernel as sk\n",
                "from semantic_kernel.connectors.ai.open_ai import OpenAIChatCompletion, OpenAITextEmbedding\n",
                "from semantic_kernel.connectors.ai.open_ai import AzureChatCompletion, AzureTextEmbedding\n",
                "from semantic_kernel.planning import ActionPlanner\n",
                "from semantic_kernel.planning import SequentialPlanner\n",
                "from semantic_kernel.core_skills.text_skill import TextSkill\n",
                "from semantic_kernel.planning import SequentialPlanner\n",
                "from semantic_kernel.core_skills.text_skill import TextSkill\n",
                "from semantic_kernel.core_skills import FileIOSkill, MathSkill, TextSkill, TimeSkill\n",
                "\n",
                "from IPython.display import display, Markdown"
            ],
            "execution_count": null,
            "outputs": []
        },
        {
            "cell_type": "markdown",
            "metadata": {},
            "source": [
                "## Kernel"
            ]
        },
        {
            "cell_type": "code",
            "metadata": {},
            "source": [
                "kernel = sk.Kernel()\n",
                "\n",
                "api_key, org_id = sk.openai_settings_from_dot_env()\n",
                "\n",
                "kernel.add_text_completion_service(\n",
                "    \"openaicompletion\", OpenAIChatCompletion(\"gpt-3.5-turbo\", api_key, org_id))\n",
                "\n",
                "kernel.add_text_embedding_generation_service(\n",
                "    \"openaiembedding\", OpenAITextEmbedding(\"text-embedding-ada-002\", api_key, org_id))"
            ],
            "execution_count": null,
            "outputs": []
        },
        {
            "cell_type": "markdown",
            "metadata": {},
            "source": [
                "# Add Core Plugins\n",
                "\n",
                "\n",
                "![](/images/core_plugins.png)\n",
                "\n",
                "## Import plugins\n",
                "\n",
                "\n",
                "- Action Planner is a simple tool which can find the right tool to get things done"
            ]
        },
        {
            "cell_type": "code",
            "metadata": {},
            "source": [
                "planner = ActionPlanner(kernel)"
            ],
            "execution_count": null,
            "outputs": []
        },
        {
            "cell_type": "markdown",
            "metadata": {},
            "source": [
                "- Adding the tools for the kernel to do math, to read/write files, to tell the time, and to play with text:\n",
                "\n",
                ""
            ]
        },
        {
            "cell_type": "code",
            "metadata": {},
            "source": [
                "kernel.import_skill(MathSkill(), \"math\")\n",
                "kernel.import_skill(FileIOSkill(), \"fileIO\")\n",
                "kernel.import_skill(TimeSkill(), \"time\")\n",
                "kernel.import_skill(TextSkill(), \"text\")"
            ],
            "execution_count": null,
            "outputs": []
        },
        {
            "cell_type": "markdown",
            "metadata": {},
            "source": [
                "# Example Plugins\n",
                "\n",
                "## Math"
            ]
        },
        {
            "cell_type": "code",
            "metadata": {},
            "source": [
                "ask = \"What is the sum of 110 and 990?\""
            ],
            "execution_count": null,
            "outputs": []
        },
        {
            "cell_type": "markdown",
            "metadata": {},
            "source": [
                "\n",
                "\n",
                "- Finding the most similar function available to get that done..."
            ]
        },
        {
            "cell_type": "code",
            "metadata": {},
            "source": [
                "plan = await planner.create_plan_async(goal=ask)"
            ],
            "execution_count": null,
            "outputs": []
        },
        {
            "cell_type": "markdown",
            "metadata": {},
            "source": [
                ""
            ]
        },
        {
            "cell_type": "code",
            "metadata": {},
            "source": [
                "print(\n",
                "    f\" The best single function to use is `{plan._skill_name}.{plan._function.name}`\")"
            ],
            "execution_count": null,
            "outputs": []
        },
        {
            "cell_type": "markdown",
            "metadata": {},
            "source": [
                "## Date {.smaller}"
            ]
        },
        {
            "cell_type": "code",
            "metadata": {},
            "source": [
                "ask = \"What is today?\""
            ],
            "execution_count": null,
            "outputs": []
        },
        {
            "cell_type": "markdown",
            "metadata": {},
            "source": [
                ""
            ]
        },
        {
            "cell_type": "code",
            "metadata": {},
            "source": [
                "print(f\" Finding the most similar function available to get that done...\")"
            ],
            "execution_count": null,
            "outputs": []
        },
        {
            "cell_type": "markdown",
            "metadata": {},
            "source": [
                ""
            ]
        },
        {
            "cell_type": "code",
            "metadata": {},
            "source": [
                "plan = await planner.create_plan_async(goal=ask)"
            ],
            "execution_count": null,
            "outputs": []
        },
        {
            "cell_type": "markdown",
            "metadata": {},
            "source": [
                ""
            ]
        },
        {
            "cell_type": "code",
            "metadata": {},
            "source": [
                "print(\n",
                "    f\" The best single function to use is `{plan._skill_name}.{plan._function.name}`\")"
            ],
            "execution_count": null,
            "outputs": []
        },
        {
            "cell_type": "markdown",
            "metadata": {},
            "source": [
                "## Text"
            ]
        },
        {
            "cell_type": "code",
            "metadata": {},
            "source": [
                "ask = \"How do I write the word 'text' to a file?\""
            ],
            "execution_count": null,
            "outputs": []
        },
        {
            "cell_type": "markdown",
            "metadata": {},
            "source": [
                ""
            ]
        },
        {
            "cell_type": "code",
            "metadata": {},
            "source": [
                "print(f\" Finding the most similar function available to get that done...\")\n",
                "plan = await planner.create_plan_async(goal=ask)\n",
                "print(\n",
                "    f\" The best single function to use is `{plan._skill_name}.{plan._function.name}`\")"
            ],
            "execution_count": null,
            "outputs": []
        },
        {
            "cell_type": "markdown",
            "metadata": {},
            "source": [
                "# Text example Poem\n",
                "\n",
                "## Custom Plugin LiterateFriend"
            ]
        },
        {
            "cell_type": "code",
            "metadata": {},
            "source": [
                "plugins_directory = \"../plugins-sk\""
            ],
            "execution_count": null,
            "outputs": []
        },
        {
            "cell_type": "markdown",
            "metadata": {},
            "source": [
                ""
            ]
        },
        {
            "cell_type": "code",
            "metadata": {},
            "source": [
                "writer_plugin = kernel.import_semantic_skill_from_directory(\n",
                "    plugins_directory, \"LiterateFriend\")"
            ],
            "execution_count": null,
            "outputs": []
        },
        {
            "cell_type": "markdown",
            "metadata": {},
            "source": [
                "## Use Sequential Planner"
            ]
        },
        {
            "cell_type": "code",
            "metadata": {},
            "source": [
                "planner = SequentialPlanner(kernel)"
            ],
            "execution_count": null,
            "outputs": []
        },
        {
            "cell_type": "markdown",
            "metadata": {},
            "source": [
                "## Task"
            ]
        },
        {
            "cell_type": "code",
            "metadata": {},
            "source": [
                "ask = \"\"\"\n",
                "Tomorrow is Valentine's day. I need to come up with a poem. Translate the poem to German.\n",
                "\"\"\""
            ],
            "execution_count": null,
            "outputs": []
        },
        {
            "cell_type": "markdown",
            "metadata": {},
            "source": [
                "- This will require two plugins (write poem and translate)\n",
                "\n",
                "## Call planner"
            ]
        },
        {
            "cell_type": "code",
            "metadata": {},
            "source": [
                "plan = await planner.create_plan_async(goal=ask)"
            ],
            "execution_count": null,
            "outputs": []
        },
        {
            "cell_type": "markdown",
            "metadata": {},
            "source": [
                "## Obtain result"
            ]
        },
        {
            "cell_type": "code",
            "metadata": {},
            "source": [
                "result = await plan.invoke_async()"
            ],
            "execution_count": null,
            "outputs": []
        },
        {
            "cell_type": "markdown",
            "metadata": {},
            "source": [
                "## Output"
            ]
        },
        {
            "cell_type": "code",
            "metadata": {},
            "source": [
                "for index, step in enumerate(plan._steps):\n",
                "    print(f\"✅ Step {index+1} used function `{step._function.name}`\")\n",
                "\n",
                "trace_resultp = True\n",
                "\n",
                "display(\n",
                "    Markdown(f\"## ✨ Generated result from the ask: {ask}\\n\\n---\\n\" + str(result)))"
            ],
            "execution_count": null,
            "outputs": []
        },
        {
            "cell_type": "markdown",
            "metadata": {},
            "source": [
                "## Display output\n",
                "\n",
                "```markdown\n",
                "✅ Step 1 used function `ShortPoem`\n",
                "✅ Step 2 used function `Translate`\n",
                "✨ Generated result from the ask:\n",
                "\n",
                "Tomorrow is Valentine's day. I need to come up with a poem. Translate the poem to German.\n",
                "\n",
                "Rosen sind rot, Veilchen sind blau, Valentinstag ist da, was wirst du tun? Kaufe Schokolade und Blumen oder schreibe einen Liebesbrief, Vergiss nur nicht, es alles besser zu machen.\n",
                "\n",
                "Wenn du Single bist, keine Sorge, Gönn dir selbst, zu...\n",
                "```\n",
                "\n",
                "- mmmhhh, maybe lost in translation 🙂\n",
                "\n",
                "\n",
                "## Take a closer look at the output"
            ]
        },
        {
            "cell_type": "code",
            "metadata": {},
            "source": [
                "for index, step in enumerate(plan._steps):\n",
                "    print(f\"✅ Step {index+1} used function `{step._function.name}`\")\n",
                "\n",
                "trace_resultp = True\n",
                "\n",
                "if trace_resultp:\n",
                "    print(\"Longform trace:\\n\")\n",
                "    for index, step in enumerate(plan._steps):\n",
                "        print(\"Step:\", index)\n",
                "        print(\"Description:\", step.description)\n",
                "        print(\"Function:\", step.skill_name + \".\" + step._function.name)\n",
                "        print(\"Output vars:\", step._outputs)\n",
                "        if len(step._outputs) > 0:\n",
                "            print(\"  Output:\\n\", str.replace(\n",
                "                result[step._outputs[0]], \"\\n\", \"\\n  \"))\n",
                "\n",
                "display(\n",
                "    Markdown(f\"## ✨ Generated result from the ask: {ask}\\n\\n---\\n\" + str(result)))"
            ],
            "execution_count": null,
            "outputs": []
        }
    ],
    "metadata": {
        "kernelspec": {
            "name": "python3",
            "language": "python",
            "display_name": "Python 3 (ipykernel)"
        }
    },
    "nbformat": 4,
    "nbformat_minor": 4
}